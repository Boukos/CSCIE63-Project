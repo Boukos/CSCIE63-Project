{
 "cells": [
  {
   "cell_type": "code",
   "execution_count": 44,
   "metadata": {
    "collapsed": false
   },
   "outputs": [
    {
     "name": "stdout",
     "output_type": "stream",
     "text": [
      "C:\\cygwin64\\home\\mpatnam\\CSCIE63\\Project\n"
     ]
    }
   ],
   "source": [
    "import os\n",
    "print(os.getcwd())"
   ]
  },
  {
   "cell_type": "code",
   "execution_count": 45,
   "metadata": {
    "collapsed": true
   },
   "outputs": [],
   "source": [
    "###### README ######\n",
    "### Data Columns ###\n",
    "# col1 Date\n",
    "# col2 Open\n",
    "# col3 High\n",
    "# col4 Low\n",
    "# col5 Close\n",
    "# col6 Volume\n",
    "# col7 Adj Close     (X)\n",
    "# col8 Aggr Score1   (Y)\n",
    "# col9 Aggr Score2\n",
    "\n",
    "# try two models #\n",
    "# Predict Sentiment Score (Y) using Close Price (X)\n",
    "# Predict Close Price (Y) using Sentiment Score (X)"
   ]
  },
  {
   "cell_type": "code",
   "execution_count": 46,
   "metadata": {
    "collapsed": false
   },
   "outputs": [
    {
     "name": "stdout",
     "output_type": "stream",
     "text": [
      "total samples: 42\n",
      "\n",
      "number of train samples: 33\n",
      "Train sample: [  4.27950000e+04   1.37889999e+02   1.40149994e+02   1.37600006e+02\n",
      "   1.39789993e+02   3.64146000e+07   1.39789993e+02  -5.00000000e-01\n",
      "  -5.00000000e-02]\n",
      "\n",
      "number of test samples: 9\n",
      "Test sample: [  4.28430000e+04   1.41410004e+02   1.42039993e+02   1.41110001e+02\n",
      "   1.41199997e+02   1.46608000e+07   1.41199997e+02   2.00000000e-01\n",
      "   8.00000000e-02]\n"
     ]
    }
   ],
   "source": [
    "import numpy as np\n",
    "import matplotlib.pyplot as plt\n",
    "import tensorflow as tf\n",
    "import xlrd\n",
    "\n",
    "DATA_FILE = 'ClosePrices2.xlsx'\n",
    "\n",
    "\n",
    "\n",
    "# Step 1: read in data from the .xls file\n",
    "book = xlrd.open_workbook(DATA_FILE, encoding_override=\"utf-8\")\n",
    "sheet = book.sheet_by_index(0)\n",
    "n_samples = sheet.nrows - 1\n",
    "print('total samples: {0}'.format(n_samples))\n",
    "\n",
    "# Step 2: use 80% of data for training, remaining for test.\n",
    "train_samples = int(0.8*n_samples)\n",
    "train_data = np.asarray([sheet.row_values(i) for i in range(1, train_samples)])\n",
    "test_samples = n_samples - train_samples\n",
    "test_data = np.asarray([sheet.row_values(i) for i in range(train_samples+1, n_samples)])\n",
    "\n",
    "# train samples\n",
    "print('\\nnumber of train samples: {0}'.format(train_samples))\n",
    "print('Train sample: {0}'.format(train_data[0]))\n",
    "\n",
    "# test samples\n",
    "print('\\nnumber of test samples: {0}'.format(test_samples))\n",
    "print('Test sample: {0}'.format(test_data[0]))"
   ]
  },
  {
   "cell_type": "code",
   "execution_count": 47,
   "metadata": {
    "collapsed": false
   },
   "outputs": [
    {
     "name": "stdout",
     "output_type": "stream",
     "text": [
      "Tensor(\"X_9:0\", shape=(1, 1), dtype=float32)\n",
      "Tensor(\"Y_9:0\", dtype=float32)\n",
      "Tensor(\"weights_1_2/read:0\", shape=(), dtype=float32)\n",
      "Tensor(\"bias_5/read:0\", shape=(), dtype=float32)\n",
      "Tensor(\"add_4:0\", shape=(1, 1), dtype=float32)\n"
     ]
    }
   ],
   "source": [
    "# Step 3: create placeholders for input Y (Aggregate Sentiment Score) and label X (Close Price)\n",
    "X = tf.placeholder(tf.float32, [1, 1], name='X')\n",
    "Y = tf.placeholder(tf.float32, name='Y')\n",
    "\n",
    "print(X)\n",
    "print(Y)\n",
    "\n",
    "# Step 4: create weight and bias, initialized to 0\n",
    "w = tf.Variable(0.0, name='weights_1')\n",
    "b = tf.Variable(0.0, name='bias')\n",
    "\n",
    "print(w)\n",
    "print(b)\n",
    "\n",
    "# Step 5: build model to predict Y\n",
    "##Y_predicted = tf.matmul(X, w) + b\n",
    "Y_predicted = (X * w) + b \n",
    "print(Y_predicted)"
   ]
  },
  {
   "cell_type": "code",
   "execution_count": 48,
   "metadata": {
    "collapsed": true
   },
   "outputs": [],
   "source": [
    "# Step 6: use the square error as the loss function\n",
    "loss = tf.square(Y - Y_predicted, name='loss')\n",
    "\n",
    "# Step 7: using gradient descent with learning rate of 0.00001 to minimize loss\n",
    "optimizer = tf.train.GradientDescentOptimizer(learning_rate=0.00000001).minimize(loss)"
   ]
  },
  {
   "cell_type": "code",
   "execution_count": 49,
   "metadata": {
    "collapsed": false
   },
   "outputs": [
    {
     "name": "stdout",
     "output_type": "stream",
     "text": [
      "Average Loss epoch 0: [[ 0.25361651]]\n",
      "Average Loss epoch 1: [[ 0.25269467]]\n",
      "Average Loss epoch 2: [[ 0.2517961]]\n",
      "Average Loss epoch 3: [[ 0.25092018]]\n",
      "Average Loss epoch 4: [[ 0.25006643]]\n",
      "Average Loss epoch 5: [[ 0.24923424]]\n",
      "Average Loss epoch 6: [[ 0.24842307]]\n",
      "Average Loss epoch 7: [[ 0.24763238]]\n",
      "Average Loss epoch 8: [[ 0.24686173]]\n",
      "Average Loss epoch 9: [[ 0.24611048]]\n",
      "Average Loss epoch 10: [[ 0.24537823]]\n",
      "Average Loss epoch 11: [[ 0.24466446]]\n",
      "Average Loss epoch 12: [[ 0.24396871]]\n",
      "Average Loss epoch 13: [[ 0.24329056]]\n",
      "Average Loss epoch 14: [[ 0.2426295]]\n",
      "Average Loss epoch 15: [[ 0.24198523]]\n",
      "Average Loss epoch 16: [[ 0.24135716]]\n",
      "Average Loss epoch 17: [[ 0.24074498]]\n",
      "Average Loss epoch 18: [[ 0.24014828]]\n",
      "Average Loss epoch 19: [[ 0.23956662]]\n",
      "Average Loss epoch 20: [[ 0.23899966]]\n",
      "Average Loss epoch 21: [[ 0.23844707]]\n",
      "Average Loss epoch 22: [[ 0.23790844]]\n",
      "Average Loss epoch 23: [[ 0.23738334]]\n",
      "Average Loss epoch 24: [[ 0.23687159]]\n",
      "Average Loss epoch 25: [[ 0.23637272]]\n",
      "Average Loss epoch 26: [[ 0.23588641]]\n",
      "Average Loss epoch 27: [[ 0.23541248]]\n",
      "Average Loss epoch 28: [[ 0.23495051]]\n",
      "Average Loss epoch 29: [[ 0.23450018]]\n",
      "Average Loss epoch 30: [[ 0.2340612]]\n",
      "Average Loss epoch 31: [[ 0.23363331]]\n",
      "Average Loss epoch 32: [[ 0.23321629]]\n",
      "Average Loss epoch 33: [[ 0.23280984]]\n",
      "Average Loss epoch 34: [[ 0.2324136]]\n",
      "Average Loss epoch 35: [[ 0.2320274]]\n",
      "Average Loss epoch 36: [[ 0.2316509]]\n",
      "Average Loss epoch 37: [[ 0.23128396]]\n",
      "Average Loss epoch 38: [[ 0.23092631]]\n",
      "Average Loss epoch 39: [[ 0.23057765]]\n",
      "Average Loss epoch 40: [[ 0.23023783]]\n",
      "Average Loss epoch 41: [[ 0.22990659]]\n",
      "Average Loss epoch 42: [[ 0.2295837]]\n",
      "Average Loss epoch 43: [[ 0.229269]]\n",
      "Average Loss epoch 44: [[ 0.22896226]]\n",
      "Average Loss epoch 45: [[ 0.22866324]]\n",
      "Average Loss epoch 46: [[ 0.22837178]]\n",
      "Average Loss epoch 47: [[ 0.22808769]]\n",
      "Average Loss epoch 48: [[ 0.22781079]]\n",
      "Average Loss epoch 49: [[ 0.22754093]]\n",
      "Average Loss epoch 50: [[ 0.22727783]]\n",
      "Average Loss epoch 51: [[ 0.2270214]]\n",
      "Average Loss epoch 52: [[ 0.22677143]]\n",
      "Average Loss epoch 53: [[ 0.22652782]]\n",
      "Average Loss epoch 54: [[ 0.22629032]]\n",
      "Average Loss epoch 55: [[ 0.22605884]]\n",
      "Average Loss epoch 56: [[ 0.22583324]]\n",
      "Average Loss epoch 57: [[ 0.2256133]]\n",
      "Average Loss epoch 58: [[ 0.22539894]]\n",
      "Average Loss epoch 59: [[ 0.22519004]]\n",
      "Average Loss epoch 60: [[ 0.22498633]]\n",
      "Average Loss epoch 61: [[ 0.22478788]]\n",
      "Average Loss epoch 62: [[ 0.22459434]]\n",
      "Average Loss epoch 63: [[ 0.22440577]]\n",
      "Average Loss epoch 64: [[ 0.22422189]]\n",
      "Average Loss epoch 65: [[ 0.22404273]]\n",
      "Average Loss epoch 66: [[ 0.2238681]]\n",
      "Average Loss epoch 67: [[ 0.22369789]]\n",
      "Average Loss epoch 68: [[ 0.22353193]]\n",
      "Average Loss epoch 69: [[ 0.22337021]]\n",
      "Average Loss epoch 70: [[ 0.22321254]]\n",
      "Average Loss epoch 71: [[ 0.22305879]]\n",
      "Average Loss epoch 72: [[ 0.22290911]]\n",
      "Average Loss epoch 73: [[ 0.22276306]]\n",
      "Average Loss epoch 74: [[ 0.22262074]]\n",
      "Average Loss epoch 75: [[ 0.22248209]]\n",
      "Average Loss epoch 76: [[ 0.22234692]]\n",
      "Average Loss epoch 77: [[ 0.2222151]]\n",
      "Average Loss epoch 78: [[ 0.22208664]]\n",
      "Average Loss epoch 79: [[ 0.2219615]]\n",
      "Average Loss epoch 80: [[ 0.22183946]]\n",
      "Average Loss epoch 81: [[ 0.22172053]]\n",
      "Average Loss epoch 82: [[ 0.2216046]]\n",
      "Average Loss epoch 83: [[ 0.22149161]]\n",
      "Average Loss epoch 84: [[ 0.22138146]]\n",
      "Average Loss epoch 85: [[ 0.22127408]]\n",
      "Average Loss epoch 86: [[ 0.22116944]]\n",
      "Average Loss epoch 87: [[ 0.22106743]]\n",
      "Average Loss epoch 88: [[ 0.22096802]]\n",
      "Average Loss epoch 89: [[ 0.22087114]]\n",
      "Average Loss epoch 90: [[ 0.22077669]]\n",
      "Average Loss epoch 91: [[ 0.22068465]]\n",
      "Average Loss epoch 92: [[ 0.22059493]]\n",
      "Average Loss epoch 93: [[ 0.22050741]]\n",
      "Average Loss epoch 94: [[ 0.22042218]]\n",
      "Average Loss epoch 95: [[ 0.22033909]]\n",
      "Average Loss epoch 96: [[ 0.2202581]]\n",
      "Average Loss epoch 97: [[ 0.2201792]]\n",
      "Average Loss epoch 98: [[ 0.22010224]]\n",
      "Average Loss epoch 99: [[ 0.22002722]]\n"
     ]
    }
   ],
   "source": [
    "train_times=100  # train the model 100 times\n",
    "\n",
    "with tf.Session() as sess:\n",
    "    # Step 7: initialize the necessary variables, in this case, w and b\n",
    "    sess.run(tf.global_variables_initializer()) \n",
    "    writer = tf.summary.FileWriter('C:/code/tensorflow/output/proj.regression2', sess.graph)\n",
    "    \n",
    "    # Step 8: train the model\n",
    "    for i in range(train_times):\n",
    "        total_loss = 0\n",
    "        # y: SentimentScore\n",
    "        # x: ClosePrice\n",
    "        #flip x and y below to run second model\n",
    "        for n, _, _, _, _, _, x, y, _ in train_data:\n",
    "            # Session runs train_op and fetch values of loss\n",
    "            #print('n:{0}, x:{1}, y:{2}'.format(n, x, y))\n",
    "            _, l = sess.run([optimizer, loss], feed_dict={X: np.reshape([x], (1,1)) , Y:y }) \n",
    "            total_loss += l\n",
    "        print('Average Loss epoch {0}: {1}'.format(i, total_loss/n_samples))\n",
    "\n",
    "    # close the writer when you're done using it\n",
    "    writer.close() \n",
    "\n",
    "    # Step 9: output the values of w and b\n",
    "    w_value, b_value = sess.run([w, b]) "
   ]
  },
  {
   "cell_type": "code",
   "execution_count": 50,
   "metadata": {
    "collapsed": false
   },
   "outputs": [
    {
     "name": "stdout",
     "output_type": "stream",
     "text": [
      "Weights:0.0011255745775997639\n",
      "Bias: 0.00001\n",
      "Test Close Prices: [ 141.199997  140.679993  142.440002  142.270004  143.639999  144.529999\n",
      "  143.679993  143.789993]\n",
      "Test sample: [  4.28430000e+04   1.41410004e+02   1.42039993e+02   1.41110001e+02\n",
      "   1.41199997e+02   1.46608000e+07   1.41199997e+02   2.00000000e-01\n",
      "   8.00000000e-02]\n",
      "Predicted Sentiment Score using test data:[ 0.15893894  0.15835364  0.16033466  0.16014332  0.16168535  0.16268711\n",
      "  0.16173036  0.16185418]\n",
      "Actual Sentiment Score:[ 0.2   0.   -0.1   0.8   0.9   0.1  -0.41  0.51]\n",
      "Model accuracy using RMSE:  0.433167392451\n"
     ]
    }
   ],
   "source": [
    "# calculate squared value (for RMSE purpose) given a predicted and actual value\n",
    "def squared_error(pred, actual):\n",
    "    return (pred - actual) ** 2\n",
    "\n",
    "# Step 8: report results\n",
    "print('Weights:{0}'.format(w_value))\n",
    "print('Bias: %2.5f' % b_value)\n",
    "\n",
    "#access test columns\n",
    "#flip indices to run second model\n",
    "X, Y = test_data.T[6], test_data.T[7]\n",
    "print('Test Close Prices: {0}'.format(X))\n",
    "print('Test sample: {0}'.format(test_data[0]))\n",
    "Y_predicted_test = X * w_value + b_value\n",
    "print('Predicted Sentiment Score using test data:{0}'.format(Y_predicted_test))\n",
    "print('Actual Sentiment Score:{0}'.format(Y))\n",
    "\n",
    "# measure RMSE accuracy\n",
    "accuracy_rmse = np.sqrt(squared_error(Y_predicted_test, Y).mean())\n",
    "print('Model accuracy using RMSE: ', accuracy_rmse)"
   ]
  },
  {
   "cell_type": "code",
   "execution_count": 52,
   "metadata": {
    "collapsed": false
   },
   "outputs": [
    {
     "data": {
      "image/png": "[encoded data removed]",
      "text/plain": [
       "<matplotlib.figure.Figure at 0x28a8ef69860>"
      ]
     },
     "metadata": {},
     "output_type": "display_data"
    }
   ],
   "source": [
    "# plot the results\n",
    "X, Y = train_data.T[6], train_data.T[7]\n",
    "plt.plot(X, Y, 'bo', label='Real data')\n",
    "plt.plot(X, (X * w_value) + b_value, 'ro', label='Predicted data')\n",
    "plt.legend()\n",
    "plt.show()"
   ]
  }
 ],
 "metadata": {
  "kernelspec": {
   "display_name": "Python 3",
   "language": "python",
   "name": "python3"
  },
  "language_info": {
   "codemirror_mode": {
    "name": "ipython",
    "version": 3
   },
   "file_extension": ".py",
   "mimetype": "text/x-python",
   "name": "python",
   "nbconvert_exporter": "python",
   "pygments_lexer": "ipython3",
   "version": "3.5.3"
  }
 },
 "nbformat": 4,
 "nbformat_minor": 2
}
